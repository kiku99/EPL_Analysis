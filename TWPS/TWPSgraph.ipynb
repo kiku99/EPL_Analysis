{
 "cells": [
  {
   "cell_type": "markdown",
   "metadata": {},
   "source": [
    "# 지난 시즌간 팀별 승리 횟수 분석"
   ]
  },
  {
   "cell_type": "markdown",
   "metadata": {},
   "source": [
    "### mysql 의 'epl' database 연결"
   ]
  },
  {
   "cell_type": "code",
   "execution_count": 17,
   "metadata": {},
   "outputs": [],
   "source": [
    "import mysql.connector\n",
    "import csv\n",
    "import pandas as pd\n",
    "import matplotlib.pyplot as plt\n",
    "import numpy as np\n",
    "\n",
    "mydb = mysql.connector.connect(\n",
    "    host=\"localhost\",\n",
    "    user=\"kiku\",\n",
    "    password=\"elsd4988\",\n",
    "    database=\"epl\"\n",
    ")"
   ]
  },
  {
   "cell_type": "markdown",
   "metadata": {},
   "source": [
    "### LiverpoolWins 테이블 생성\n",
    "LiverpoolWins 테이블은 지난 시즌동안 리버풀이 승리한 경기의 시즌, 홈팀, 어웨이팀, 승리팀 데이터를 저장"
   ]
  },
  {
   "cell_type": "code",
   "execution_count": null,
   "metadata": {},
   "outputs": [],
   "source": [
    "sql = \"CREATE TABLE LiverpoolWins (id INT AUTO_INCREMENT PRIMARY KEY, season VARCHAR(255), hometeam VARCHAR(255), awayteam VARCHAR(255), FTR VARCHAR(255))\"\n",
    "mycursor = mydb.cursor()\n",
    "mycursor.execute(sql)"
   ]
  },
  {
   "cell_type": "markdown",
   "metadata": {},
   "source": [
    "### LiverPoolWins.csv 데이터 삽입\n",
    "리버풀이 지난 시즌동안 승리한 경기 데이터를 LiverPoolWins 테이블에 삽입"
   ]
  },
  {
   "cell_type": "code",
   "execution_count": 51,
   "metadata": {},
   "outputs": [],
   "source": [
    "mycursor = mydb.cursor(prepared=True)\n",
    "\n",
    "sql = \"INSERT INTO LiverpoolWins (season, hometeam, awayteam, FTR) VALUES (%s, %s, %s, %s)\"\n",
    "\n",
    "f = open('LiverpoolWins.csv', 'r', encoding='latin1')\n",
    "rd = csv.reader(f)\n",
    "\n",
    "for row in rd :\n",
    "    season = (row[0])\n",
    "    hometeam = (row[1])\n",
    "    awayteam = (row[2])\n",
    "    FTR = (row[3])\n",
    "\n",
    "    val = (season, hometeam, awayteam, FTR)\n",
    "\n",
    "    mycursor.execute(sql, val)  \n",
    "\n",
    "mydb.commit()"
   ]
  },
  {
   "cell_type": "markdown",
   "metadata": {},
   "source": [
    "### LiverpoolWins 테이블에서 시즌별 리버풀 승리 횟수 출력"
   ]
  },
  {
   "cell_type": "code",
   "execution_count": 52,
   "metadata": {},
   "outputs": [
    {
     "name": "stdout",
     "output_type": "stream",
     "text": [
      "('Jan-00', 20)\n",
      "('01-Feb', 24)\n",
      "('02-Mar', 18)\n",
      "('03-Apr', 16)\n",
      "('04-May', 17)\n",
      "('05-Jun', 25)\n",
      "('06-Jul', 20)\n",
      "('07-Aug', 21)\n",
      "('08-Sep', 25)\n",
      "('09-Oct', 18)\n",
      "('10-Nov', 17)\n",
      "('11-Dec', 14)\n",
      "('2012-13', 16)\n",
      "('2013-14', 26)\n",
      "('2014-15', 18)\n",
      "('2015-16', 16)\n",
      "('2016-17', 22)\n",
      "('2017-18', 21)\n",
      "('2018-19', 30)\n",
      "('2019-20', 32)\n",
      "('2020-21', 20)\n",
      "('2021-22', 22)\n"
     ]
    }
   ],
   "source": [
    "mycursor = mydb.cursor()\n",
    "mycursor.execute(\"select season, count(season) from LiverpoolWins group by season\")\n",
    "myresult = mycursor.fetchall()\n",
    "liverpoolWins=[]\n",
    "for x in myresult:\n",
    "    liverpoolWins.append(x)\n",
    "    print(x)\n"
   ]
  },
  {
   "cell_type": "markdown",
   "metadata": {},
   "source": [
    "### ArsenalWins 테이블 생성\n",
    "ArsenalWins 테이블은 지난 시즌동안 아스날이 승리한 경기의 시즌, 홈팀, 어웨이팀, 승리팀 데이터를 저장"
   ]
  },
  {
   "cell_type": "code",
   "execution_count": 39,
   "metadata": {},
   "outputs": [],
   "source": [
    "sql = \"CREATE TABLE ArsenalWins (id INT AUTO_INCREMENT PRIMARY KEY, season VARCHAR(255), hometeam VARCHAR(255), awayteam VARCHAR(255), FTR VARCHAR(255))\"\n",
    "mycursor = mydb.cursor()\n",
    "mycursor.execute(sql)"
   ]
  },
  {
   "cell_type": "markdown",
   "metadata": {},
   "source": [
    "### ArsenalWins.csv 데이터 삽입\n",
    "아스날이 지난 시즌동안 승리한 경기 데이터를 ArsenalWins 테이블에 삽입"
   ]
  },
  {
   "cell_type": "code",
   "execution_count": 44,
   "metadata": {},
   "outputs": [],
   "source": [
    "mycursor = mydb.cursor(prepared=True)\n",
    "\n",
    "sql = \"INSERT INTO ArsenalWins (season, hometeam, awayteam, FTR) VALUES (%s, %s, %s, %s)\"\n",
    "\n",
    "f = open('ArsenalWins.csv', 'r', encoding='latin1')\n",
    "rd = csv.reader(f)\n",
    "\n",
    "for row in rd :\n",
    "    season = (row[0])\n",
    "    hometeam = (row[1])\n",
    "    awayteam = (row[2])\n",
    "    FTR = (row[3])\n",
    "\n",
    "    val = (season, hometeam, awayteam, FTR)\n",
    "\n",
    "    mycursor.execute(sql, val)  \n",
    "\n",
    "mydb.commit()"
   ]
  },
  {
   "cell_type": "markdown",
   "metadata": {},
   "source": [
    "### ArsenalWins 테이블에서 시즌별 아스날 승리 횟수 출력"
   ]
  },
  {
   "cell_type": "code",
   "execution_count": 45,
   "metadata": {},
   "outputs": [
    {
     "name": "stdout",
     "output_type": "stream",
     "text": [
      "('Jan-00', 20)\n",
      "('01-Feb', 26)\n",
      "('02-Mar', 23)\n",
      "('03-Apr', 26)\n",
      "('04-May', 25)\n",
      "('05-Jun', 20)\n",
      "('06-Jul', 19)\n",
      "('07-Aug', 24)\n",
      "('08-Sep', 20)\n",
      "('09-Oct', 23)\n",
      "('10-Nov', 19)\n",
      "('11-Dec', 21)\n",
      "('2012-13', 21)\n",
      "('2013-14', 24)\n",
      "('2014-15', 22)\n",
      "('2015-16', 20)\n",
      "('2016-17', 23)\n",
      "('2017-18', 19)\n",
      "('2018-19', 21)\n",
      "('2019-20', 14)\n",
      "('2020-21', 18)\n",
      "('2021-22', 17)\n"
     ]
    }
   ],
   "source": [
    "mycursor = mydb.cursor()\n",
    "mycursor.execute(\"select season, count(season) from ArsenalWins group by season\")\n",
    "myresult = mycursor.fetchall()\n",
    "arsenalWins=[]\n",
    "for x in myresult:\n",
    "    arsenalWins.append(x)\n",
    "    print(x)\n"
   ]
  },
  {
   "cell_type": "code",
   "execution_count": 53,
   "metadata": {},
   "outputs": [],
   "source": [
    "mycursor = mydb.cursor(prepared=True)\n",
    "\n",
    "sql = \"INSERT INTO ChelseaWins (season, hometeam, awayteam, FTR) VALUES (%s, %s, %s, %s)\"\n",
    "\n",
    "f = open('ChelseaWins.csv', 'r', encoding='latin1')\n",
    "rd = csv.reader(f)\n",
    "\n",
    "for row in rd :\n",
    "    season = (row[0])\n",
    "    hometeam = (row[1])\n",
    "    awayteam = (row[2])\n",
    "    FTR = (row[3])\n",
    "\n",
    "    val = (season, hometeam, awayteam, FTR)\n",
    "\n",
    "    mycursor.execute(sql, val)  \n",
    "\n",
    "mydb.commit()"
   ]
  },
  {
   "cell_type": "markdown",
   "metadata": {},
   "source": [
    "### ChelseaWins 테이블에서 시즌별 첼시 승리 횟수 출력"
   ]
  },
  {
   "cell_type": "code",
   "execution_count": 58,
   "metadata": {},
   "outputs": [
    {
     "data": {
      "image/png": "[encoded data removed]",
      "text/plain": [
       "<Figure size 1440x720 with 1 Axes>"
      ]
     },
     "metadata": {
      "needs_background": "light"
     },
     "output_type": "display_data"
    }
   ],
   "source": [
    "mycursor = mydb.cursor()\n",
    "mycursor.execute(\"select season, count(season) from ChelseaWins group by season\")\n",
    "myresult = mycursor.fetchall()\n",
    "chelseaWins=[]\n",
    "for x in myresult:\n",
    "    chelseaWins.append([x[0],x[1]])\n",
    "\n",
    "cd = pd.DataFrame(chelseaWins)\n",
    "\n",
    "plt.figure(figsize=(20, 10))\n",
    "plt.plot(cd[0], cd[1])\n",
    "plt.show()\n"
   ]
  },
  {
   "cell_type": "code",
   "execution_count": 49,
   "metadata": {},
   "outputs": [],
   "source": [
    "mycursor = mydb.cursor(prepared=True)\n",
    "\n",
    "sql = \"INSERT INTO ManUnitedWins (season, hometeam, awayteam, FTR) VALUES (%s, %s, %s, %s)\"\n",
    "\n",
    "f = open('Man UnitedWins.csv', 'r', encoding='latin1')\n",
    "rd = csv.reader(f)\n",
    "\n",
    "for row in rd :\n",
    "    season = (row[0])\n",
    "    hometeam = (row[1])\n",
    "    awayteam = (row[2])\n",
    "    FTR = (row[3])\n",
    "\n",
    "    val = (season, hometeam, awayteam, FTR)\n",
    "\n",
    "    mycursor.execute(sql, val)  \n",
    "\n",
    "mydb.commit()"
   ]
  },
  {
   "cell_type": "markdown",
   "metadata": {},
   "source": [
    "### ManUnited 테이블에서 시즌별 맨체스터 유나이티드 승리 횟수 출력 "
   ]
  },
  {
   "cell_type": "code",
   "execution_count": 50,
   "metadata": {},
   "outputs": [
    {
     "name": "stdout",
     "output_type": "stream",
     "text": [
      "('Jan-00', 24)\n",
      "('01-Feb', 24)\n",
      "('02-Mar', 25)\n",
      "('03-Apr', 23)\n",
      "('04-May', 22)\n",
      "('05-Jun', 25)\n",
      "('06-Jul', 28)\n",
      "('07-Aug', 27)\n",
      "('08-Sep', 28)\n",
      "('09-Oct', 27)\n",
      "('10-Nov', 23)\n",
      "('11-Dec', 28)\n",
      "('2012-13', 28)\n",
      "('2013-14', 19)\n",
      "('2014-15', 20)\n",
      "('2015-16', 19)\n",
      "('2016-17', 18)\n",
      "('2017-18', 25)\n",
      "('2018-19', 19)\n",
      "('2019-20', 18)\n",
      "('2020-21', 21)\n",
      "('2021-22', 14)\n"
     ]
    }
   ],
   "source": [
    "mycursor = mydb.cursor()\n",
    "mycursor.execute(\"select season, count(season) from ManUnitedWins group by season\")\n",
    "myresult = mycursor.fetchall()\n",
    "manUnitedWins=[]\n",
    "for x in myresult:\n",
    "    manUnitedWins.append(x)\n",
    "    print(x)"
   ]
  }
 ],
 "metadata": {
  "interpreter": {
   "hash": "dacbc32ebab83c2e89c1ed0fea50a57c7398a1c115edad260ca12dbc69999b8a"
  },
  "kernelspec": {
   "display_name": "Python 3.9.7 ('base')",
   "language": "python",
   "name": "python3"
  },
  "language_info": {
   "codemirror_mode": {
    "name": "ipython",
    "version": 3
   },
   "file_extension": ".py",
   "mimetype": "text/x-python",
   "name": "python",
   "nbconvert_exporter": "python",
   "pygments_lexer": "ipython3",
   "version": "3.9.7"
  },
  "orig_nbformat": 4
 },
 "nbformat": 4,
 "nbformat_minor": 2
}
