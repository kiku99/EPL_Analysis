{
 "cells": [
  {
   "cell_type": "markdown",
   "metadata": {},
   "source": [
    "# 지난 시즌간 팀별 승리 횟수 분석"
   ]
  },
  {
   "cell_type": "markdown",
   "metadata": {},
   "source": [
    "### mysql 의 'epl' database 연결"
   ]
  },
  {
   "cell_type": "code",
   "execution_count": 2,
   "metadata": {},
   "outputs": [],
   "source": [
    "import mysql.connector\n",
    "import csv\n",
    "import pandas as pd\n",
    "\n",
    "mydb = mysql.connector.connect(\n",
    "    host=\"localhost\",\n",
    "    user=\"kiku\",\n",
    "    password=\"elsd4988\",\n",
    "    database=\"epl\"\n",
    ")"
   ]
  },
  {
   "cell_type": "markdown",
   "metadata": {},
   "source": [
    "### LiverpoolWins 테이블 생성\n",
    "LiverpoolWins 테이블은 지난 시즌동안 리버풀이 승리한 경기의 시즌, 홈팀, 어웨이팀, 승리팀 데이터를 저장"
   ]
  },
  {
   "cell_type": "code",
   "execution_count": null,
   "metadata": {},
   "outputs": [],
   "source": [
    "sql = \"CREATE TABLE LiverpoolWins (id INT AUTO_INCREMENT PRIMARY KEY, season VARCHAR(255), hometeam VARCHAR(255), awayteam VARCHAR(255), FTR VARCHAR(255))\"\n",
    "mycursor = mydb.cursor()\n",
    "mycursor.execute(sql)"
   ]
  },
  {
   "cell_type": "markdown",
   "metadata": {},
   "source": [
    "### LiverPoolWins.csv 데이터 삽입\n",
    "리버풀이 지난 시즌동안 승리한 경기 데이터를 LiverPoolWins 테이블에 삽입"
   ]
  },
  {
   "cell_type": "code",
   "execution_count": null,
   "metadata": {},
   "outputs": [],
   "source": [
    "mycursor = mydb.cursor(prepared=True)\n",
    "\n",
    "sql = \"INSERT INTO LiverpoolWins (season, hometeam, awayteam, FTR) VALUES (%s, %s, %s, %s)\"\n",
    "\n",
    "f = open('LiverpoolWins.csv', 'r', encoding='latin1')\n",
    "rd = csv.reader(f)\n",
    "\n",
    "for row in rd :\n",
    "    season = (row[0])\n",
    "    hometeam = (row[1])\n",
    "    awayteam = (row[2])\n",
    "    FTR = (row[3])\n",
    "\n",
    "    val = (season, hometeam, awayteam, FTR)\n",
    "\n",
    "    mycursor.execute(sql, val)  \n",
    "\n",
    "mydb.commit()"
   ]
  },
  {
   "cell_type": "markdown",
   "metadata": {},
   "source": [
    "### LiverpoolWins 테이블에서 시즌별 리버풀 승리 횟수 출력"
   ]
  },
  {
   "cell_type": "code",
   "execution_count": 7,
   "metadata": {},
   "outputs": [
    {
     "name": "stdout",
     "output_type": "stream",
     "text": [
      "('season', 1)\n",
      "('Jan-00', 20)\n",
      "('01-Feb', 24)\n",
      "('02-Mar', 18)\n",
      "('03-Apr', 16)\n",
      "('04-May', 17)\n",
      "('05-Jun', 25)\n",
      "('06-Jul', 20)\n",
      "('07-Aug', 21)\n",
      "('08-Sep', 25)\n",
      "('09-Oct', 18)\n",
      "('10-Nov', 17)\n",
      "('11-Dec', 14)\n",
      "('2012-13', 16)\n",
      "('2013-14', 26)\n",
      "('2014-15', 18)\n",
      "('2015-16', 16)\n",
      "('2016-17', 22)\n",
      "('2017-18', 21)\n",
      "('2018-19', 30)\n",
      "('2019-20', 32)\n",
      "('2020-21', 20)\n",
      "('2021-22', 22)\n"
     ]
    }
   ],
   "source": [
    "mycursor = mydb.cursor()\n",
    "mycursor.execute(\"select season, count(season) from LiverpoolWins group by season\")\n",
    "myresult = mycursor.fetchall()\n",
    "liverpoolWins=[]\n",
    "for x in myresult:\n",
    "    liverpoolWins.append(x)\n",
    "    print(x)\n"
   ]
  },
  {
   "cell_type": "markdown",
   "metadata": {},
   "source": [
    "### ArsenalWins 테이블 생성\n",
    "ArsenalWins 테이블은 지난 시즌동안 아스날이 승리한 경기의 시즌, 홈팀, 어웨이팀, 승리팀 데이터를 저장"
   ]
  },
  {
   "cell_type": "code",
   "execution_count": null,
   "metadata": {},
   "outputs": [],
   "source": [
    "sql = \"CREATE TABLE ArsenalWins (id INT AUTO_INCREMENT PRIMARY KEY, season VARCHAR(255), hometeam VARCHAR(255), awayteam VARCHAR(255), FTR VARCHAR(255))\"\n",
    "mycursor = mydb.cursor()\n",
    "mycursor.execute(sql)"
   ]
  },
  {
   "cell_type": "markdown",
   "metadata": {},
   "source": [
    "### ArsenalWins.csv 데이터 삽입\n",
    "아스날이 지난 시즌동안 승리한 경기 데이터를 ArsenalWins 테이블에 삽입"
   ]
  },
  {
   "cell_type": "code",
   "execution_count": 8,
   "metadata": {},
   "outputs": [],
   "source": [
    "mycursor = mydb.cursor(prepared=True)\n",
    "\n",
    "sql = \"INSERT INTO ArsenalWins (season, hometeam, awayteam, FTR) VALUES (%s, %s, %s, %s)\"\n",
    "\n",
    "f = open('ArsenalWins.csv', 'r', encoding='latin1')\n",
    "rd = csv.reader(f)\n",
    "\n",
    "for row in rd :\n",
    "    season = (row[0])\n",
    "    hometeam = (row[1])\n",
    "    awayteam = (row[2])\n",
    "    FTR = (row[3])\n",
    "\n",
    "    val = (season, hometeam, awayteam, FTR)\n",
    "\n",
    "    mycursor.execute(sql, val)  \n",
    "\n",
    "mydb.commit()"
   ]
  },
  {
   "cell_type": "markdown",
   "metadata": {},
   "source": [
    "### ArsenalWins 테이블에서 시즌별 아스날 승리 횟수 출력"
   ]
  },
  {
   "cell_type": "code",
   "execution_count": 3,
   "metadata": {},
   "outputs": [
    {
     "name": "stdout",
     "output_type": "stream",
     "text": [
      "('season', 2)\n",
      "('Jan-00', 40)\n",
      "('01-Feb', 52)\n",
      "('02-Mar', 46)\n",
      "('03-Apr', 52)\n",
      "('04-May', 50)\n",
      "('05-Jun', 40)\n",
      "('06-Jul', 38)\n",
      "('07-Aug', 48)\n",
      "('08-Sep', 40)\n",
      "('09-Oct', 46)\n",
      "('10-Nov', 38)\n",
      "('11-Dec', 42)\n",
      "('2012-13', 42)\n",
      "('2013-14', 48)\n",
      "('2014-15', 44)\n",
      "('2015-16', 40)\n",
      "('2016-17', 46)\n",
      "('2017-18', 38)\n",
      "('2018-19', 42)\n",
      "('2019-20', 28)\n",
      "('2020-21', 36)\n",
      "('2021-22', 34)\n"
     ]
    }
   ],
   "source": [
    "mycursor = mydb.cursor()\n",
    "mycursor.execute(\"select season, count(season) from ArsenalWins group by season\")\n",
    "myresult = mycursor.fetchall()\n",
    "arsenalWins=[]\n",
    "for x in myresult:\n",
    "    arsenalWins.append(x)\n",
    "    print(x)\n"
   ]
  },
  {
   "cell_type": "markdown",
   "metadata": {},
   "source": [
    "### ChelseaWins 테이블에서 시즌별 첼시 승리 횟수 출력"
   ]
  },
  {
   "cell_type": "code",
   "execution_count": 23,
   "metadata": {},
   "outputs": [
    {
     "name": "stdout",
     "output_type": "stream",
     "text": [
      "('season', 1)\n",
      "('Jan-00', 17)\n",
      "('01-Feb', 17)\n",
      "('02-Mar', 19)\n",
      "('03-Apr', 24)\n",
      "('04-May', 29)\n",
      "('05-Jun', 29)\n",
      "('06-Jul', 24)\n",
      "('07-Aug', 25)\n",
      "('08-Sep', 25)\n",
      "('09-Oct', 27)\n",
      "('10-Nov', 21)\n",
      "('11-Dec', 18)\n",
      "('2012-13', 22)\n",
      "('2013-14', 25)\n",
      "('2014-15', 26)\n",
      "('2015-16', 12)\n",
      "('2016-17', 30)\n",
      "('2017-18', 21)\n",
      "('2018-19', 21)\n",
      "('2019-20', 20)\n",
      "('2020-21', 19)\n",
      "('2021-22', 18)\n"
     ]
    }
   ],
   "source": [
    "mycursor = mydb.cursor()\n",
    "mycursor.execute(\"select season, count(season) from ChelseaWins group by season\")\n",
    "myresult = mycursor.fetchall()\n",
    "chelseaWins=[]\n",
    "for x in myresult:\n",
    "    chelseaWins.append(x)\n",
    "    print(x)\n"
   ]
  },
  {
   "cell_type": "markdown",
   "metadata": {},
   "source": [
    "### ManUnited 테이블에서 시즌별 맨체스터 유나이티드 승리 횟수 출력 "
   ]
  },
  {
   "cell_type": "code",
   "execution_count": 10,
   "metadata": {},
   "outputs": [
    {
     "name": "stdout",
     "output_type": "stream",
     "text": [
      "('season', 1)\n",
      "('Jan-00', 24)\n",
      "('01-Feb', 24)\n",
      "('02-Mar', 25)\n",
      "('03-Apr', 23)\n",
      "('04-May', 22)\n",
      "('05-Jun', 25)\n",
      "('06-Jul', 28)\n",
      "('07-Aug', 27)\n",
      "('08-Sep', 28)\n",
      "('09-Oct', 27)\n",
      "('10-Nov', 23)\n",
      "('11-Dec', 28)\n",
      "('2012-13', 28)\n",
      "('2013-14', 19)\n",
      "('2014-15', 20)\n",
      "('2015-16', 19)\n",
      "('2016-17', 18)\n",
      "('2017-18', 25)\n",
      "('2018-19', 19)\n",
      "('2019-20', 18)\n",
      "('2020-21', 21)\n",
      "('2021-22', 14)\n"
     ]
    }
   ],
   "source": [
    "mycursor = mydb.cursor()\n",
    "mycursor.execute(\"select season, count(season) from ManUnitedWins group by season\")\n",
    "myresult = mycursor.fetchall()\n",
    "manUnitedWins=[]\n",
    "for x in myresult:\n",
    "    manUnitedWins.append(x)\n",
    "    print(x)\n"
   ]
  },
  {
   "cell_type": "code",
   "execution_count": 15,
   "metadata": {},
   "outputs": [
    {
     "ename": "TypeError",
     "evalue": "'method' object is not iterable",
     "output_type": "error",
     "traceback": [
      "\u001b[0;31m---------------------------------------------------------------------------\u001b[0m",
      "\u001b[0;31mTypeError\u001b[0m                                 Traceback (most recent call last)",
      "\u001b[0;32m/var/folders/6t/_sq0zghx2v55shm2g4tzfyfw0000gn/T/ipykernel_7081/152582486.py\u001b[0m in \u001b[0;36m<module>\u001b[0;34m\u001b[0m\n\u001b[1;32m      3\u001b[0m \u001b[0mmyresult\u001b[0m \u001b[0;34m=\u001b[0m \u001b[0mmycursor\u001b[0m\u001b[0;34m.\u001b[0m\u001b[0mfetchall\u001b[0m\u001b[0;34m\u001b[0m\u001b[0;34m\u001b[0m\u001b[0m\n\u001b[1;32m      4\u001b[0m \u001b[0mmanUnitedWins1\u001b[0m\u001b[0;34m=\u001b[0m\u001b[0;34m[\u001b[0m\u001b[0;34m]\u001b[0m\u001b[0;34m\u001b[0m\u001b[0;34m\u001b[0m\u001b[0m\n\u001b[0;32m----> 5\u001b[0;31m \u001b[0;32mfor\u001b[0m \u001b[0mx\u001b[0m \u001b[0;32min\u001b[0m \u001b[0mmyresult\u001b[0m\u001b[0;34m:\u001b[0m\u001b[0;34m\u001b[0m\u001b[0;34m\u001b[0m\u001b[0m\n\u001b[0m\u001b[1;32m      6\u001b[0m     \u001b[0mmanUnitedWins1\u001b[0m\u001b[0;34m.\u001b[0m\u001b[0mappend\u001b[0m\u001b[0;34m(\u001b[0m\u001b[0mx\u001b[0m\u001b[0;34m)\u001b[0m\u001b[0;34m\u001b[0m\u001b[0;34m\u001b[0m\u001b[0m\n\u001b[1;32m      7\u001b[0m     \u001b[0mprint\u001b[0m\u001b[0;34m(\u001b[0m\u001b[0mx\u001b[0m\u001b[0;34m)\u001b[0m\u001b[0;34m\u001b[0m\u001b[0;34m\u001b[0m\u001b[0m\n",
      "\u001b[0;31mTypeError\u001b[0m: 'method' object is not iterable"
     ]
    }
   ],
   "source": [
    "mycursor = mydb.cursor()\n",
    "mycursor.execute(\"select count(*) from total where (hometeam = 'Arsenal' && FTR = 'H')\")\n",
    "myresult = mycursor.fetchall\n",
    "manUnitedWins1=[]\n",
    "for x1 in myresult:\n",
    "    manUnitedWins1.append(x1)\n",
    "    print(x1)\n"
   ]
  },
  {
   "cell_type": "code",
   "execution_count": 4,
   "metadata": {},
   "outputs": [
    {
     "name": "stdout",
     "output_type": "stream",
     "text": [
      "     season  win\n",
      "0    season    2\n",
      "1    Jan-00   40\n",
      "2    01-Feb   52\n",
      "3    02-Mar   46\n",
      "4    03-Apr   52\n",
      "5    04-May   50\n",
      "6    05-Jun   40\n",
      "7    06-Jul   38\n",
      "8    07-Aug   48\n",
      "9    08-Sep   40\n",
      "10   09-Oct   46\n",
      "11   10-Nov   38\n",
      "12   11-Dec   42\n",
      "13  2012-13   42\n",
      "14  2013-14   48\n",
      "15  2014-15   44\n",
      "16  2015-16   40\n",
      "17  2016-17   46\n",
      "18  2017-18   38\n",
      "19  2018-19   42\n",
      "20  2019-20   28\n",
      "21  2020-21   36\n",
      "22  2021-22   34\n"
     ]
    }
   ],
   "source": [
    "df = pd.DataFrame(myresult, columns=['season', 'win'])\n",
    "print(df)"
   ]
  }
 ],
 "metadata": {
  "interpreter": {
   "hash": "dacbc32ebab83c2e89c1ed0fea50a57c7398a1c115edad260ca12dbc69999b8a"
  },
  "kernelspec": {
   "display_name": "Python 3.9.7 ('base')",
   "language": "python",
   "name": "python3"
  },
  "language_info": {
   "codemirror_mode": {
    "name": "ipython",
    "version": 3
   },
   "file_extension": ".py",
   "mimetype": "text/x-python",
   "name": "python",
   "nbconvert_exporter": "python",
   "pygments_lexer": "ipython3",
   "version": "3.9.7"
  },
  "orig_nbformat": 4
 },
 "nbformat": 4,
 "nbformat_minor": 2
}
